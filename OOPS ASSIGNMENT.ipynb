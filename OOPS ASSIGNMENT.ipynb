{
 "cells": [
  {
   "cell_type": "markdown",
   "id": "41b7e748-0712-40ba-941d-29005dcc082c",
   "metadata": {},
   "source": [
    "Q1. Explain Class and Object with respect to Object-Oriented Programming. Give a suitable example."
   ]
  },
  {
   "cell_type": "markdown",
   "id": "2fa492fa-80b8-48c7-913d-b3c75c08fbfa",
   "metadata": {},
   "source": [
    "A1. Class is a blueprint or template for creating objects. It defines the properties and behaviors that all objects of that class will have.\n",
    "\n",
    "Object is an instance of a class.\n",
    "\n",
    "Example\n",
    "\n",
    "Consider the class Car. This class might define the following properties:\n",
    "\n",
    "make\n",
    "model\n",
    "year\n",
    "color\n",
    "speed\n",
    "direction"
   ]
  },
  {
   "cell_type": "code",
   "execution_count": 13,
   "id": "a21c3735-1638-4261-941e-2c91c3c734f2",
   "metadata": {},
   "outputs": [],
   "source": [
    "class car():\n",
    "    def __init__(self,make,model,year,color):\n",
    "        self.make = make\n",
    "        self.model = model\n",
    "        self.year = year\n",
    "        self.color = color\n",
    "        \n",
    "    def car_details(self):\n",
    "        return self.make,self.model,self.year,self.color"
   ]
  },
  {
   "cell_type": "code",
   "execution_count": 16,
   "id": "09df3303-52cd-4dfc-b0fe-cdc98547fc0f",
   "metadata": {},
   "outputs": [],
   "source": [
    "car1 = car(\"Toyota\",\"Creta\",2022,\"Black\")\n",
    "car2 = car(\"Tata\",\"Harrier\",2030,\"Black\")"
   ]
  },
  {
   "cell_type": "code",
   "execution_count": 18,
   "id": "67af8c3f-82ff-4ffb-b40a-fa83db556ce9",
   "metadata": {},
   "outputs": [
    {
     "data": {
      "text/plain": [
       "('Toyota', 'Creta', 2022, 'Black')"
      ]
     },
     "execution_count": 18,
     "metadata": {},
     "output_type": "execute_result"
    }
   ],
   "source": [
    "car1.car_details()"
   ]
  },
  {
   "cell_type": "code",
   "execution_count": 19,
   "id": "871bd8f7-aefa-415f-a126-e9bd4c13181c",
   "metadata": {},
   "outputs": [
    {
     "data": {
      "text/plain": [
       "('Tata', 'Harrier', 2030, 'Black')"
      ]
     },
     "execution_count": 19,
     "metadata": {},
     "output_type": "execute_result"
    }
   ],
   "source": [
    "car2.car_details()"
   ]
  },
  {
   "cell_type": "code",
   "execution_count": null,
   "id": "de1896a9-4acf-42b4-85a9-d01c1d8a6741",
   "metadata": {},
   "outputs": [],
   "source": []
  },
  {
   "cell_type": "markdown",
   "id": "02a29386-2d55-4d9a-b2fa-051a202bc28c",
   "metadata": {},
   "source": [
    "Q2. Name the four pillars of OOPs."
   ]
  },
  {
   "cell_type": "markdown",
   "id": "c306fdc7-e7d1-4a6b-9ff5-da5742fd300a",
   "metadata": {},
   "source": [
    "A2. \n",
    "The four pillars of OOPs are:\n",
    "\n",
    "Abstraction\n",
    "Encapsulation\n",
    "Inheritance\n",
    "Polymorphism"
   ]
  },
  {
   "cell_type": "code",
   "execution_count": null,
   "id": "bb4ffecd-b294-4078-b076-091955895260",
   "metadata": {},
   "outputs": [],
   "source": []
  },
  {
   "cell_type": "markdown",
   "id": "0396c307-19c0-493e-a1ad-8523aebd6414",
   "metadata": {},
   "source": [
    "Q3. Explain why the __init__() function is used. Give a suitable example."
   ]
  },
  {
   "cell_type": "markdown",
   "id": "bf87c8a1-2f5d-4a32-9d24-8cffff385e93",
   "metadata": {},
   "source": [
    "A3. \n",
    "The __init__() function is used to initialize an object when it is created  and  can be used to set the initial\n",
    "values of the object's attributes.\n",
    "\n",
    "class car():\n",
    "    def __init__(self,make,model,year,color):\n",
    "        self.make = make\n",
    "        self.model = model\n",
    "        self.year = year\n",
    "        self.color = color\n",
    "        \n",
    "    def car_details(self):\n",
    "        return self.make,self.model,self.year,self.color\n",
    "\n",
    "\n",
    "\n",
    "\n",
    "In this example, the __init__() function is used to set the initial values of the car object's attributes: make, model, and year."
   ]
  },
  {
   "cell_type": "code",
   "execution_count": null,
   "id": "f69ec0fa-358c-486a-93b2-23dbe9f60917",
   "metadata": {},
   "outputs": [],
   "source": []
  },
  {
   "cell_type": "markdown",
   "id": "0f82b09e-594a-4d8a-95b7-97de4cbbfb43",
   "metadata": {},
   "source": [
    "Q4. Why self is used in OOPs?"
   ]
  },
  {
   "cell_type": "markdown",
   "id": "74e5cb34-baaa-44c5-aa81-58386b2e9d7a",
   "metadata": {},
   "source": [
    "A4. he self parameter is used in OOPs to represent the current instance of the class. It is used to access the attributes \n",
    "and methods of the class from within the class itself."
   ]
  },
  {
   "cell_type": "code",
   "execution_count": null,
   "id": "76b4efea-e3fe-49a6-93c0-5d0c116a8c76",
   "metadata": {},
   "outputs": [],
   "source": []
  },
  {
   "cell_type": "markdown",
   "id": "0de563fb-3db0-44e4-afcf-40fe748bc0f2",
   "metadata": {},
   "source": [
    "Q5. What is inheritance? Give an example for each type of inheritance."
   ]
  },
  {
   "cell_type": "markdown",
   "id": "636bbc16-2bfe-49e2-b6e6-ad2b18a2303d",
   "metadata": {},
   "source": [
    "A5. nheritance is a feature of object-oriented programming that allows us to create new classes based on existing classes. This allows us to reuse code and build on the work of others.\n",
    "\n",
    "There are three types of inheritance in object-oriented programming:\n",
    "\n",
    "1. Single inheritance: This is the simplest type of inheritance, where a class inherits from a single parent class.\n",
    "2. Multiple inheritance: This type of inheritance allows a class to inherit from multiple parent classes.\n",
    "3. Hierarchical inheritance: This type of inheritance allows us to create a hierarchy of classes, where each class inherits from the class above it in the hierarchy.\n",
    "\n"
   ]
  },
  {
   "cell_type": "code",
   "execution_count": 20,
   "id": "27026fee-9cf6-448f-8171-bd8e6b3b6ac6",
   "metadata": {},
   "outputs": [],
   "source": [
    "# Single Inheritance\n",
    "\n",
    "class class1:\n",
    "    def test_class1(self):\n",
    "        print(\"This is class1\")\n",
    "\n",
    "class class2(class1):\n",
    "    def test_class2(self):\n",
    "        print(\"This is class2\")"
   ]
  },
  {
   "cell_type": "code",
   "execution_count": 21,
   "id": "0543ad25-7f65-45a3-9000-d9c9031d5ab6",
   "metadata": {},
   "outputs": [],
   "source": [
    "#Multiple\n",
    "\n",
    "class class1:\n",
    "    def test_class1(self):\n",
    "        print(\"This is class1\")\n",
    "\n",
    "class class2:\n",
    "    def test_class2(self):\n",
    "        print(\"This is class2\")\n",
    "\n",
    "class class3(class1,class2):\n",
    "    pass"
   ]
  },
  {
   "cell_type": "code",
   "execution_count": null,
   "id": "bf80f3a9-6698-4fc8-8707-ef2ce6c363d4",
   "metadata": {},
   "outputs": [],
   "source": [
    "#Hierarchical inheritance\n",
    "\n",
    "class class1:\n",
    "    def test_class1(self):\n",
    "        print(\"This is class1\")\n",
    "\n",
    "class class2(class1):\n",
    "    def test_class2(self):\n",
    "        print(\"This is class2\")\n",
    "        \n",
    "class class3(class1):\n",
    "    def test_class3(self):\n",
    "        print(\"This is class3\")"
   ]
  }
 ],
 "metadata": {
  "kernelspec": {
   "display_name": "Python 3 (ipykernel)",
   "language": "python",
   "name": "python3"
  },
  "language_info": {
   "codemirror_mode": {
    "name": "ipython",
    "version": 3
   },
   "file_extension": ".py",
   "mimetype": "text/x-python",
   "name": "python",
   "nbconvert_exporter": "python",
   "pygments_lexer": "ipython3",
   "version": "3.10.8"
  }
 },
 "nbformat": 4,
 "nbformat_minor": 5
}
